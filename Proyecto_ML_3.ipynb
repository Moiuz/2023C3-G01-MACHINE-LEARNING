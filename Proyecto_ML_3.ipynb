{
 "cells": [
  {
   "cell_type": "markdown",
   "id": "3a1d35e6",
   "metadata": {},
   "source": [
    "<h1 style='color:#70341d;text-align:center'> Universidad Castro Carazo</h1>\n",
    "<div style=\"display: flex; justify-content: space-between;\">\n",
    "    <div class=\"izquierda\">\n",
    "        <h2 style=\"color:#70341d;\">Aprendizaje Automático</h2>\n",
    "        <p>\n",
    "            Finalmente, Llegamos al punto donde incorporé el aprendizaje automático y diversos modelos, teniendo en cuenta cómo hacer que la información compleja sea más clara. Esto se logra al observar patrones visuales, simplificar la cantidad de variables o características, y examinar las relaciones entre los datos. Cada enfoque proporciona perspectivas valiosas para explorar y entender conjuntos de datos de manera más efectiva.</p>\n",
    "</div>\n",
    "\n",
    "<div class=\"right\">\n",
    "     <img src=\"AprendizajeAutomatico.jpg\" alt=\"Gráfico de barras\" width=\"600\">\n",
    "</div>"
   ]
  },
  {
   "cell_type": "code",
   "execution_count": 1,
   "id": "d4b2d613",
   "metadata": {},
   "outputs": [],
   "source": [
    "import pandas as pd # Importar pandas para manipulación y análisis de datos\n",
    "import numpy as np # Importar numpy para operaciones numéricas eficientes\n",
    "import matplotlib.pyplot as plt # Importar matplotlib y seaborn para visualización de datos\n",
    "import matplotlib as mpl\n",
    "import seaborn as sns \n",
    "from sklearn import linear_model# Importar modelos de regresión lineal y otros algoritmos de aprendizaje automático\n",
    "from sklearn.preprocessing import StandardScaler # Importar StandardScaler para estandarizar (escalar) características\n",
    "from sklearn.decomposition import PCA # Importar PCA (Análisis de Componentes Principales) para reducción de dimensionalidad\n",
    "from sklearn.metrics import mean_squared_error # Importar mean_squared_error para evaluar la calidad de los modelos"
   ]
  },
  {
   "cell_type": "code",
   "execution_count": 2,
   "id": "c6299a2f",
   "metadata": {},
   "outputs": [],
   "source": [
    "db = pd.read_excel('BancoUno2.xlsx', engine='openpyxl')"
   ]
  },
  {
   "cell_type": "code",
   "execution_count": 3,
   "id": "c091ebc8",
   "metadata": {},
   "outputs": [
    {
     "data": {
      "text/plain": [
       "Index(['LIMIT_BAL', 'AGE', 'PAY_0', 'PAY_2', 'PAY_3', 'PAY_4', 'PAY_5',\n",
       "       'PAY_6', 'BILL_AMT1', 'BILL_AMT2', 'BILL_AMT3', 'BILL_AMT4',\n",
       "       'BILL_AMT5', 'BILL_AMT6', 'PAY_AMT1', 'PAY_AMT2', 'PAY_AMT3',\n",
       "       'PAY_AMT4', 'PAY_AMT5', 'PAY_AMT6', 'SEX_female', 'SEX_male',\n",
       "       'EDUCATION_graduate school', 'EDUCATION_high school', 'EDUCATION_other',\n",
       "       'EDUCATION_university', 'MARRIAGE_0', 'MARRIAGE_1', 'MARRIAGE_2',\n",
       "       'MARRIAGE_3', 'default_payment_next_month(Y)_default',\n",
       "       'default_payment_next_month(Y)_not default'],\n",
       "      dtype='object')"
      ]
     },
     "execution_count": 3,
     "metadata": {},
     "output_type": "execute_result"
    }
   ],
   "source": [
    "db.columns # Muestra el nombre de todas las columnad de la base de datos"
   ]
  },
  {
   "cell_type": "code",
   "execution_count": 4,
   "id": "85e04995",
   "metadata": {},
   "outputs": [
    {
     "name": "stdout",
     "output_type": "stream",
     "text": [
      "<class 'pandas.core.frame.DataFrame'>\n",
      "RangeIndex: 2396 entries, 0 to 2395\n",
      "Data columns (total 32 columns):\n",
      " #   Column                                     Non-Null Count  Dtype\n",
      "---  ------                                     --------------  -----\n",
      " 0   LIMIT_BAL                                  2396 non-null   int64\n",
      " 1   AGE                                        2396 non-null   int64\n",
      " 2   PAY_0                                      2396 non-null   int64\n",
      " 3   PAY_2                                      2396 non-null   int64\n",
      " 4   PAY_3                                      2396 non-null   int64\n",
      " 5   PAY_4                                      2396 non-null   int64\n",
      " 6   PAY_5                                      2396 non-null   int64\n",
      " 7   PAY_6                                      2396 non-null   int64\n",
      " 8   BILL_AMT1                                  2396 non-null   int64\n",
      " 9   BILL_AMT2                                  2396 non-null   int64\n",
      " 10  BILL_AMT3                                  2396 non-null   int64\n",
      " 11  BILL_AMT4                                  2396 non-null   int64\n",
      " 12  BILL_AMT5                                  2396 non-null   int64\n",
      " 13  BILL_AMT6                                  2396 non-null   int64\n",
      " 14  PAY_AMT1                                   2396 non-null   int64\n",
      " 15  PAY_AMT2                                   2396 non-null   int64\n",
      " 16  PAY_AMT3                                   2396 non-null   int64\n",
      " 17  PAY_AMT4                                   2396 non-null   int64\n",
      " 18  PAY_AMT5                                   2396 non-null   int64\n",
      " 19  PAY_AMT6                                   2396 non-null   int64\n",
      " 20  SEX_female                                 2396 non-null   int64\n",
      " 21  SEX_male                                   2396 non-null   int64\n",
      " 22  EDUCATION_graduate school                  2396 non-null   int64\n",
      " 23  EDUCATION_high school                      2396 non-null   int64\n",
      " 24  EDUCATION_other                            2396 non-null   int64\n",
      " 25  EDUCATION_university                       2396 non-null   int64\n",
      " 26  MARRIAGE_0                                 2396 non-null   int64\n",
      " 27  MARRIAGE_1                                 2396 non-null   int64\n",
      " 28  MARRIAGE_2                                 2396 non-null   int64\n",
      " 29  MARRIAGE_3                                 2396 non-null   int64\n",
      " 30  default_payment_next_month(Y)_default      2396 non-null   int64\n",
      " 31  default_payment_next_month(Y)_not default  2396 non-null   int64\n",
      "dtypes: int64(32)\n",
      "memory usage: 599.1 KB\n"
     ]
    }
   ],
   "source": [
    "db.info()"
   ]
  },
  {
   "cell_type": "code",
   "execution_count": 5,
   "id": "4b48173c",
   "metadata": {},
   "outputs": [],
   "source": [
    "db = db.rename(columns={'default payment next month (Y)':'Y'})"
   ]
  },
  {
   "cell_type": "code",
   "execution_count": 6,
   "id": "5c167fe4",
   "metadata": {},
   "outputs": [
    {
     "name": "stdout",
     "output_type": "stream",
     "text": [
      "[[-1.12642689 -1.20840397  1.77647823 ... -0.34328006 -0.29509662\n",
      "  -0.25656677]\n",
      " [-0.35402725 -0.99677208 -0.89437003 ... -0.27310016 -0.29509662\n",
      "  -0.15692781]\n",
      " [-0.58574714 -0.15024451 -0.00408727 ... -0.27310016 -0.23589944\n",
      "  -0.00746937]\n",
      " ...\n",
      " [-0.27678728 -1.20840397  0.88619548 ... -0.27302998 -0.23951047\n",
      "  -0.20609964]\n",
      " [-0.43126721 -0.89095613 -0.00408727 ... -0.22411459 -0.18197081\n",
      "  -0.16649315]\n",
      " [ 0.26389247 -0.67932424 -0.00408727 ... -0.20965753 -0.29438625\n",
      "   0.0036902 ]]\n"
     ]
    }
   ],
   "source": [
    "caracteristicas_personalizadas = ['LIMIT_BAL', 'AGE', 'PAY_0', 'PAY_2', 'PAY_3', 'PAY_4', 'PAY_5', 'PAY_6', 'BILL_AMT1', 'BILL_AMT2', 'BILL_AMT3', 'BILL_AMT4', 'BILL_AMT5', 'BILL_AMT6', 'PAY_AMT1', 'PAY_AMT2', 'PAY_AMT3', 'PAY_AMT4', 'PAY_AMT5', 'PAY_AMT6']\n",
    "\n",
    "# Se define una lista llamada caracteristicas_personalizadas que contiene los nombres de las características que se utilizarán en el análisis.\n",
    "\n",
    "X_personalizado = db[caracteristicas_personalizadas].values\n",
    "\n",
    "# Selecciona las columnas especificadas por la lista caracteristicas_personalizadas del DataFrame db y almacena estas características en la variable X_personalizado.\n",
    "\n",
    "y_personalizado = db['default_payment_next_month(Y)_default'].values\n",
    "\n",
    "# Selecciona la columna 'default_payment_next_month(Y)_default' del DataFrame db y almacena la variable objetivo en y_personalizado.\n",
    "\n",
    "X_personalizado = StandardScaler().fit_transform(X_personalizado)\n",
    "\n",
    "# Utiliza StandardScaler para estandarizar las características en X_personalizado. La estandarización implica restar la media y dividir por la desviación estándar, lo que ayuda a que todas las características tengan la misma escala.\n",
    "\n",
    "print(X_personalizado)\n",
    "\n",
    "# Imprimo las características escaladas"
   ]
  },
  {
   "cell_type": "code",
   "execution_count": 7,
   "id": "2cddf196",
   "metadata": {},
   "outputs": [
    {
     "ename": "SyntaxError",
     "evalue": "invalid syntax. Perhaps you forgot a comma? (1864893576.py, line 1)",
     "output_type": "error",
     "traceback": [
      "\u001b[1;36m  Cell \u001b[1;32mIn[7], line 1\u001b[1;36m\u001b[0m\n\u001b[1;33m    * PCA (Análisis de Componentes Principales):\u001b[0m\n\u001b[1;37m           ^\u001b[0m\n\u001b[1;31mSyntaxError\u001b[0m\u001b[1;31m:\u001b[0m invalid syntax. Perhaps you forgot a comma?\n"
     ]
    }
   ],
   "source": [
    "* PCA (Análisis de Componentes Principales):\n",
    "\n",
    "- Objetivo: Maximizar la varianza de los datos en las nuevas dimensiones.\n",
    "- Linealidad: Realiza una transformación lineal de los datos.\n",
    "- Preservación de la Distancia: Intenta preservar las distancias euclidianas entre puntos en el espacio original.\n",
    "- Propiedad: Los primeros componentes principales capturan la mayor cantidad de varianza en los datos."
   ]
  },
  {
   "cell_type": "code",
   "execution_count": null,
   "id": "f2946049",
   "metadata": {},
   "outputs": [],
   "source": [
    "pca = PCA(n_components=2)\n",
    "\n",
    "cp = pca.fit_transform(X_personalizado)\n",
    "\n",
    "dbcomp = pd.DataFrame(data=cp, columns=['principal_component_1', 'principal_component_2'])\n",
    "\n",
    "print(dbcomp.head(10))"
   ]
  },
  {
   "cell_type": "code",
   "execution_count": null,
   "id": "ff7f9e73",
   "metadata": {},
   "outputs": [],
   "source": [
    "Dbresult = pd.concat([dbcomp, db[['default_payment_next_month(Y)_default']]], axis=1)\n",
    "print(Dbresult.head(10))"
   ]
  },
  {
   "cell_type": "code",
   "execution_count": null,
   "id": "0e0b8415",
   "metadata": {},
   "outputs": [],
   "source": [
    "# Crear una nueva figura de matplotlib con un tamaño específico\n",
    "fig, ax = plt.subplots(figsize=(8, 8))\n",
    "\n",
    "# Establecer etiquetas de los ejes x e y y el título del gráfico\n",
    "ax.set_xlabel('Principal Component 1', fontsize=10)\n",
    "ax.set_ylabel('Principal Component 2', fontsize=10)\n",
    "ax.set_title('PCA Reduction (2 Principal Components)', fontsize=14)\n",
    "\n",
    "# Definir los valores objetivo que se están visualizando en el gráfico\n",
    "targets = [1, 0]  # 'default' se representa con 1, 'not default' con 0\n",
    "\n",
    "# Definir los colores que se usarán para cada categoría en el gráfico\n",
    "colors = ['#4a1b14', '#b89058']\n",
    "\n",
    "# Iterar sobre los valores objetivo y colores correspondientes\n",
    "for target, color in zip(targets, colors):\n",
    "    # Identificar los índices de las filas en finalDf donde el valor de la columna\n",
    "    # 'default_payment_next_month(Y)_default' coincide con el valor actual del objetivo\n",
    "    indicesToKeep = Dbresult['default_payment_next_month(Y)_default'] == target\n",
    "    \n",
    "    # Dibujar puntos en el gráfico de dispersión para los datos correspondientes a cada objetivo\n",
    "    # Utilizar los componentes principales como coordenadas x e y\n",
    "    # Representar los puntos con colores y transparencia específicos\n",
    "    ax.scatter(Dbresult.loc[indicesToKeep, 'principal_component_1'],\n",
    "               Dbresult.loc[indicesToKeep, 'principal_component_2'],\n",
    "               c=color,\n",
    "               s=50,  # Tamaño de los puntos\n",
    "               alpha=0.3,  # Transparencia de los puntos\n",
    "               edgecolors='none')  # No mostrar bordes de los puntos\n",
    "\n",
    "# Agregar una leyenda al gráfico para identificar las categorías representadas por los colores\n",
    "ax.legend(['default', 'not default'])\n",
    "\n",
    "# Agregar una cuadrícula al gráfico para facilitar la lectura de las ubicaciones de los puntos\n",
    "ax.grid()\n",
    "\n",
    "# Mostrar el gráfico\n",
    "plt.show()"
   ]
  },
  {
   "cell_type": "code",
   "execution_count": null,
   "id": "e62b8ecb",
   "metadata": {},
   "outputs": [],
   "source": [
    "pca.explained_variance_ratio_"
   ]
  },
  {
   "cell_type": "markdown",
   "id": "8cf3b7a1",
   "metadata": {},
   "source": [
    "En este caso, el primer componente principal explica aproximadamente el 33.57% de la varianza en los datos, mientras que el segundo componente principal explica aproximadamente el 20.40%.\n",
    "\n",
    "La suma de estas dos proporciones de varianza explicada es del 54.97%. Esto significa que al reducir la dimensionalidad de los datos a solo dos componentes principales, estás reteniendo alrededor del 55% de la información original de los datos.\n",
    "\n",
    "Cuando se decide si es viable implementar la regresión lineal simple o múltiple, es importante considerar la cantidad de información que se retiene después de la reducción de dimensionalidad. En general, retener menos del 70-80% de la varianza original puede afectar la capacidad del modelo para capturar las relaciones en los datos de manera efectiva.\n",
    "\n",
    "Con aproximadamente el 55% de la varianza explicada, podemos argumentar que la reducción de dimensionalidad a través de PCA puede no ser completamente viable para la regresión lineal simple o múltiple, ya que se esta perdiendo una cantidad significativa de información original. Sin embargo, la viabilidad también dependerá de la naturaleza específica de los datos y del objetivo del análisis.\n"
   ]
  },
  {
   "cell_type": "code",
   "execution_count": null,
   "id": "3aa9024b",
   "metadata": {},
   "outputs": [],
   "source": [
    "color = '#4a1b14'\n",
    "viz = Dbresult[['principal_component_1', 'principal_component_2', 'default_payment_next_month(Y)_default']]\n",
    "viz.hist(color=color)\n",
    "plt.show()"
   ]
  },
  {
   "cell_type": "code",
   "execution_count": null,
   "id": "e0bc5dac",
   "metadata": {},
   "outputs": [],
   "source": [
    "color = '#4a1b14'\n",
    "plt.scatter(Dbresult.principal_component_1, Dbresult['default_payment_next_month(Y)_default'], color=color)\n",
    "plt.xlabel(\"PCA 1\")\n",
    "plt.ylabel(\"default_payment_next_month(Y)_default\")\n",
    "plt.show()"
   ]
  },
  {
   "cell_type": "code",
   "execution_count": null,
   "id": "dcc0644b",
   "metadata": {},
   "outputs": [],
   "source": [
    "color = '#4a1b14'\n",
    "plt.scatter(Dbresult.principal_component_2, Dbresult['default_payment_next_month(Y)_default'], color=color)\n",
    "plt.xlabel(\"PCA 2\")\n",
    "plt.ylabel(\"default_payment_next_month(Y)_default\")\n",
    "plt.show()"
   ]
  },
  {
   "cell_type": "markdown",
   "id": "374533c7",
   "metadata": {},
   "source": [
    "En este punto, me tome la libertad de implementar 2 modelos mas para agregar valor a mi proyecto"
   ]
  },
  {
   "cell_type": "markdown",
   "id": "e8108072",
   "metadata": {},
   "source": [
    "<h2 style=\"color:#70341d;\">t-SNE (t-Distributed Stochastic Neighbor Embedding):</h2>\n",
    "\n",
    "- Objetivo: Mantener la cercanía entre puntos cercanos y reducir la cercanía entre puntos lejanos.\n",
    "- No Linealidad:  Cambia los datos de una manera que no sigue una línea recta.\n",
    "- Preservación de la Distancia: Se enfoca en mantener las relaciones locales en lugar de las distancias exactas.\n",
    "- Propiedad: Es especialmente útil para representar estructuras complejas y no lineales en los datos."
   ]
  },
  {
   "cell_type": "code",
   "execution_count": null,
   "id": "637376ec",
   "metadata": {},
   "outputs": [],
   "source": [
    "# Importar la clase TSNE desde la biblioteca scikit-learn\n",
    "from sklearn.manifold import TSNE\n",
    "# Crear una instancia de TSNE con 2 componentes y semilla aleatoria fijada en 42\n",
    "tsne = TSNE(n_components=2, random_state=42)\n",
    "# Instanciar el modelo t-SNE\n",
    "tsne_components = tsne.fit_transform(X_personalizado)\n",
    "# Aplicar t-SNE a las características estandarizadas\n",
    "tsne_df = pd.DataFrame(data=tsne_components, columns=['tsne_component_1', 'tsne_component_2'])\n",
    "# Crear un DataFrame con los componentes t-SNE\n",
    "print(tsne_df.head(10))"
   ]
  },
  {
   "cell_type": "code",
   "execution_count": null,
   "id": "1ad7cd0c",
   "metadata": {},
   "outputs": [],
   "source": [
    "# Concatenar los resultados de t-SNE con la columna objetivo del DataFrame original\n",
    "Dbresult1 = pd.concat([tsne_df, db[['default_payment_next_month(Y)_default']]], axis=1)\n",
    "# Imprimir las primeras 10 filas del DataFrame resultante\n",
    "print(Dbresult1.head(10))"
   ]
  },
  {
   "cell_type": "code",
   "execution_count": null,
   "id": "cb69ac12",
   "metadata": {},
   "outputs": [],
   "source": [
    "color = '#4a1b14'\n",
    "# Seleccionar las columnas relevantes del DataFrame 'Dbresult1' para la visualización\n",
    "# 'tsne_component_1', 'tsne_component_2': Columnas para el eje x e y del histograma\n",
    "# 'default_payment_next_month(Y)_default': Columna para el histograma de la variable objetivo\n",
    "viz = Dbresult1[['tsne_component_1', 'tsne_component_2', 'default_payment_next_month(Y)_default']]\n",
    "# Crear histogramas para las columnas seleccionadas con el color especificado\n",
    "viz.hist(color=color)\n",
    "# Mostrar los histogramas\n",
    "plt.show()"
   ]
  },
  {
   "cell_type": "code",
   "execution_count": null,
   "id": "c0000f7a",
   "metadata": {},
   "outputs": [],
   "source": [
    "# Crear una nueva figura de matplotlib con un tamaño específico\n",
    "fig, ax = plt.subplots(figsize=(8, 8))\n",
    "\n",
    "# Establecer etiquetas de los ejes x e y y el título del gráfico\n",
    "ax.set_xlabel('tsne_component_1', fontsize=10)\n",
    "ax.set_ylabel('tsne_component_2', fontsize=10)\n",
    "ax.set_title('tsne Reduction (2 Principal Components)', fontsize=14)\n",
    "\n",
    "# Definir los valores objetivo que se están visualizando en el gráfico\n",
    "targets = [1, 0]  # 'default' se representa con 1, 'not default' con 0\n",
    "\n",
    "# Definir los colores que se usarán para cada categoría en el gráfico\n",
    "colors = ['#4a1b14', '#b89058']\n",
    "\n",
    "# Iterar sobre los valores objetivo y colores correspondientes\n",
    "for target, color in zip(targets, colors):\n",
    "    # Identificar los índices de las filas en finalDf donde el valor de la columna\n",
    "    # 'default_payment_next_month(Y)_default' coincide con el valor actual del objetivo\n",
    "    indicesToKeep = Dbresult1['default_payment_next_month(Y)_default'] == target\n",
    "    \n",
    "    # Dibujar puntos en el gráfico de dispersión para los datos correspondientes a cada objetivo\n",
    "    # Utilizar los componentes principales como coordenadas x e y\n",
    "    # Representar los puntos con colores y transparencia específicos\n",
    "    ax.scatter(Dbresult1.loc[indicesToKeep, 'tsne_component_1'],\n",
    "               Dbresult1.loc[indicesToKeep, 'tsne_component_2'],\n",
    "               c=color,\n",
    "               s=50,  # Tamaño de los puntos\n",
    "               alpha=0.3,  # Transparencia de los puntos\n",
    "               edgecolors='none')  # No mostrar bordes de los puntos\n",
    "\n",
    "# Agregar una leyenda al gráfico para identificar las categorías representadas por los colores\n",
    "ax.legend(['default', 'not default'])\n",
    "\n",
    "# Agregar una cuadrícula al gráfico para facilitar la lectura de las ubicaciones de los puntos\n",
    "ax.grid()\n",
    "\n",
    "# Mostrar el gráfico\n",
    "plt.show()"
   ]
  },
  {
   "cell_type": "code",
   "execution_count": null,
   "id": "32baab49",
   "metadata": {},
   "outputs": [],
   "source": [
    "# Crear una instancia de TSNE con 2 componentes y semilla aleatoria fijada en 42\n",
    "tsne = TSNE(n_components=2, random_state=42) # La semilla aleatoria se utiliza para reproducir los resultados\n",
    "\n",
    "# Aplica t-SNE a los datos\n",
    "tsne_components = tsne.fit_transform(X_personalizado)\n",
    "\n",
    "# Imprime los primeros 10 componentes\n",
    "print(tsne_components[:1])"
   ]
  },
  {
   "cell_type": "code",
   "execution_count": null,
   "id": "43b76e68",
   "metadata": {},
   "outputs": [],
   "source": [
    "#tsne_df.to_csv('resultados_tsne.csv', index=False)"
   ]
  },
  {
   "cell_type": "markdown",
   "id": "5401b172",
   "metadata": {},
   "source": [
    "Algunas observaciones fueron:\n",
    "    \n",
    "Fila 0:\n",
    "\n",
    "tsne_component_1: -34.051384\n",
    "tsne_component_2: -9.770218\n",
    "default_payment_next_month(Y)_default: 1\n",
    "Interpretación: La coordenada tsne_component_1 es -34.05 y tsne_component_2 es -9.77. La columna default_payment_next_month(Y)_default tiene el valor 1, indicando que este caso tiene un pago por defecto.\n",
    "\n",
    "Fila 1:\n",
    "\n",
    "tsne_component_1: -8.731450\n",
    "tsne_component_2: -38.374649\n",
    "default_payment_next_month(Y)_default: 1\n",
    "Interpretación: La coordenada t-SNE de -8.73 y -38.37. La columna default_payment_next_month(Y)_default también tiene el valor 1, indicando otro caso de pago por defecto.\n",
    "\n",
    "Fila 2:\n",
    "\n",
    "tsne_component_1: 0.925062\n",
    "tsne_component_2: -11.592987\n",
    "default_payment_next_month(Y)_default: 0\n",
    "Interpretación: La coordenada t-SNE de 0.93 y -11.59. La columna default_payment_next_month(Y)_default tiene el valor 0, lo que significa que este caso no tiene un pago por defecto.\n",
    "\n",
    "Fila 3:\n",
    "\n",
    "tsne_component_1: 9.352970\n",
    "tsne_component_2: -9.609838\n",
    "default_payment_next_month(Y)_default: 0\n",
    "Interpretación: La coordenada t-SNE de 9.35 y -9.61. La columna default_payment_next_month(Y)_default tiene el valor 0, indicando que este caso no tiene un pago por defecto.\n",
    "\n",
    "Este modelo no es viable ya que no nos permite predecir si el credito se va a pagar o no por parte del deudor. Unicamente esta interpretando y ayudando a visualizar la informacion en 2 dimensiones."
   ]
  },
  {
   "cell_type": "markdown",
   "id": "c84c6333",
   "metadata": {},
   "source": [
    "<h2 style=\"color:#70341d;\">MCP (Mapa Auto-Organizado):</h2>\n",
    "\n",
    "- Objetivo: Organizar puntos similares en ubicaciones cercanas y resaltar patrones en los datos.\n",
    "- No Linealidad: Realiza una transformación no lineal que no sigue una estructura lineal predefinida.\n",
    "- Preservación de la Distancia: Se centra en conservar las relaciones locales, haciendo énfasis en la topología del espacio original.\n",
    "- Propiedad: Es particularmente eficaz para descubrir y visualizar patrones complejos y no lineales en conjuntos de datos."
   ]
  },
  {
   "cell_type": "code",
   "execution_count": null,
   "id": "a6d171b1",
   "metadata": {},
   "outputs": [],
   "source": [
    "from sklearn.model_selection import train_test_split\n",
    "from sklearn.linear_model import LogisticRegression\n",
    "from sklearn.metrics import accuracy_score, classification_report, confusion_matrix"
   ]
  },
  {
   "cell_type": "code",
   "execution_count": null,
   "id": "62396895",
   "metadata": {},
   "outputs": [],
   "source": [
    "# Calcular la matriz de correlación de Pearson\n",
    "correlation_matrix = db.corr(method='pearson')\n",
    "\n",
    "# Mostrar la matriz de correlación\n",
    "print(correlation_matrix)"
   ]
  },
  {
   "cell_type": "code",
   "execution_count": null,
   "id": "5b40c225",
   "metadata": {},
   "outputs": [],
   "source": [
    "dbbancodum = pd.get_dummies(db) # Aplicar la codificación one-hot a variables categóricas en el DataFrame 'db'"
   ]
  },
  {
   "cell_type": "code",
   "execution_count": null,
   "id": "4e9fd4b3",
   "metadata": {},
   "outputs": [],
   "source": [
    "# División de datos\n",
    "X = dbbancodum.drop('default_payment_next_month(Y)_default', axis=1)\n",
    "y = dbbancodum['default_payment_next_month(Y)_default']\n",
    "\n",
    "X_train, X_test, y_train, y_test = train_test_split(X, y, test_size=0.2, random_state=42)"
   ]
  },
  {
   "cell_type": "code",
   "execution_count": null,
   "id": "81f5e1e4",
   "metadata": {
    "scrolled": true
   },
   "outputs": [],
   "source": [
    "model = LogisticRegression() # Crear una instancia del modelo de regresión logística\n",
    "model.fit(X_train, y_train) # Entrenar el modelo con el conjunto de datos de entrenamiento"
   ]
  },
  {
   "cell_type": "code",
   "execution_count": null,
   "id": "46cda69d",
   "metadata": {},
   "outputs": [],
   "source": [
    "# Importa las funciones necesarias para evaluar el modelo\n",
    "from sklearn.metrics import accuracy_score, classification_report, confusion_matrix\n",
    "\n",
    "# Divide los datos en características (X) y etiquetas (y)\n",
    "X = Dbresult1.drop('default_payment_next_month(Y)_default', axis=1)\n",
    "y = Dbresult1['default_payment_next_month(Y)_default']\n",
    "\n",
    "# Divide los datos en conjuntos de entrenamiento y prueba\n",
    "X_train, X_test, y_train, y_test = train_test_split(X, y, test_size=0.2, random_state=42)\n",
    "\n",
    "# Crea un modelo de regresión logística\n",
    "model = LogisticRegression()\n",
    "\n",
    "# Entrena el modelo utilizando los datos de entrenamiento\n",
    "model.fit(X_train, y_train)\n",
    "\n",
    "# Realiza predicciones en el conjunto de prueba\n",
    "y_pred = model.predict(X_test)\n",
    "\n",
    "# Evalúa y muestra las métricas del modelo\n",
    "print(\"Accuracy:\", accuracy_score(y_test, y_pred))\n",
    "print(\"\\nClassification Report:\\n\", classification_report(y_test, y_pred))\n",
    "print(\"\\nConfusion Matrix:\\n\", confusion_matrix(y_test, y_pred))"
   ]
  },
  {
   "cell_type": "markdown",
   "id": "e2cd7296",
   "metadata": {},
   "source": [
    "* Accuracy (Precisión): 0.7854\n",
    "\n",
    "La precisión general del modelo es del 78.54%. Sin embargo, el accuracy puede variar.\n",
    "\n",
    "* Classification Report:\n",
    "\n",
    "1. Precision:\n",
    "Para la clase 0 (créditos que no deberían ser otorgados), la precisión es del 78%. Esto significa que el 78% de las predicciones positivas para esta clase fueron correctas.\n",
    "Para la clase 1 (créditos que deberían ser otorgados), la precisión es del 100%. Todas las predicciones positivas para esta clase fueron correctas. Sin embargo, el recall es bajo, lo que indica que muchas instancias positivas reales no se están capturando.\n",
    "\n",
    "* 2. Recall:\n",
    "Para la clase 0, el recall es del 100%. Esto significa que el modelo captura todas las instancias positivas reales de esta clase.\n",
    "Para la clase 1, el recall es del 1%. Esto indica que el modelo captura muy pocas instancias positivas reales de esta clase.\n",
    "\n",
    "3.  F1-score:\n",
    "El F1-score busca un equilibrio entre precision y recall. Dado el bajo recall para la clase 1, el F1-score para esta clase es bajo.\n",
    "\n",
    "* Confusion Matrix:\n",
    "\n",
    "La matriz de confusión muestra que el modelo predice correctamente la clase 0 en su totalidad (376 verdaderos negativos) pero tiene dificultades para capturar la clase 1 (solo 1 verdadero positivo de 104 instancias reales).\n",
    "En resumen, el modelo tiene una precisión general aceptable, pero su rendimiento varía significativamente entre las dos clases.\n",
    "\n",
    "Para nuestro objetivo que es predecir créditos que deberían ser otorgados (clase 1), el modelo necesita mejorar su capacidad para capturar estas instancias. Probar modelos más complejos seria una buena solucion para este escenario."
   ]
  }
 ],
 "metadata": {
  "kernelspec": {
   "display_name": "Python 3 (ipykernel)",
   "language": "python",
   "name": "python3"
  },
  "language_info": {
   "codemirror_mode": {
    "name": "ipython",
    "version": 3
   },
   "file_extension": ".py",
   "mimetype": "text/x-python",
   "name": "python",
   "nbconvert_exporter": "python",
   "pygments_lexer": "ipython3",
   "version": "3.10.9"
  }
 },
 "nbformat": 4,
 "nbformat_minor": 5
}
